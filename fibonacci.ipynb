{
 "cells": [
  {
   "cell_type": "markdown",
   "metadata": {},
   "source": [
    "# Fibonacci"
   ]
  },
  {
   "cell_type": "markdown",
   "metadata": {},
   "source": [
    "As ferramentas de negociação Fibonacci são usadas para determinar os níveis de suporte / resistência ou para identificar preços-alvo.\n",
    "\n",
    "A sequência de Fibonacci é uma série de números, começando com zero e um, em que cada número é a soma dos dois números anteriores."
   ]
  },
  {
   "cell_type": "markdown",
   "metadata": {},
   "source": [
    "# Estratégia de negociação de retração de Fibonacci"
   ]
  },
  {
   "cell_type": "markdown",
   "metadata": {},
   "source": [
    "Os índices de Fibonacci, 23,6%, 38,2% e 61,8%, podem ser aplicados para a análise de série temporal para encontrar o nível de suporte. Sempre que o preço se move substancialmente para cima ou para baixo, geralmente tende a retroceder antes de continuar a se mover na direção original. Por exemplo, se o preço da ação passou de 200 reais para 250 reais, é provável que volte a 230 reais antes de continuar a subir. O nível de retração de R$ 230 é estimado usando as taxas de Fibonacci.\n",
    "\n",
    "Podemos chegar a 230 reais usando uma matemática simples Total de movimento ascendente =  250 reais - 200 reais = 50 38,2% do movimento ascendente = 38,2% * 50 = $19,1 Previsão de retração = 250 reais - 19,1 reais = 230,9 reais\n",
    "\n",
    "Qualquer nível de preço abaixo de 230 reais oferece uma boa oportunidade para os traders entrarem em novas posições na direção da tendência. Da mesma forma, podemos calcular para 23,6%, 61,8% e as outras razões de Fibonacci."
   ]
  },
  {
   "cell_type": "markdown",
   "metadata": {},
   "source": [
    "# Calculando o Fibonacci\n",
    "Como sabemos agora, retrações são movimentos de preços que vão contra a tendência original. Para prever o nível de retração de Fibonacci, devemos primeiro identificar o movimento total para cima ou o movimento total para baixo. Para marcar o movimento, precisamos escolher a alta e a mínima mais recentes no gráfico."
   ]
  },
  {
   "cell_type": "code",
   "execution_count": 1,
   "metadata": {},
   "outputs": [],
   "source": [
    "import pandas as pd\n",
    "import numpy as np\n",
    "import seaborn as sns\n",
    "import matplotlib.pyplot as plt\n",
    "%matplotlib inline\n",
    "import pandas_datareader as data\n",
    "ticker = data.DataReader('UGPA3.SA', data_source='yahoo', start='2020-08-01', end='2020-08-21') ['Adj Close']"
   ]
  },
  {
   "cell_type": "code",
   "execution_count": 2,
   "metadata": {},
   "outputs": [
    {
     "data": {
      "text/plain": [
       "Date\n",
       "2020-08-03    18.959999\n",
       "2020-08-04    18.850000\n",
       "2020-08-05    18.889999\n",
       "2020-08-06    19.059999\n",
       "2020-08-07    19.219999\n",
       "2020-08-10    19.020000\n",
       "2020-08-11    18.809999\n",
       "2020-08-12    18.660000\n",
       "2020-08-13    18.549999\n",
       "2020-08-14    18.780001\n",
       "2020-08-17    18.270000\n",
       "2020-08-18    18.809999\n",
       "2020-08-19    19.690001\n",
       "2020-08-20    19.930000\n",
       "2020-08-21    20.000000\n",
       "Name: Adj Close, dtype: float64"
      ]
     },
     "execution_count": 2,
     "metadata": {},
     "output_type": "execute_result"
    }
   ],
   "source": [
    "ticker"
   ]
  },
  {
   "cell_type": "code",
   "execution_count": 3,
   "metadata": {},
   "outputs": [
    {
     "data": {
      "text/plain": [
       "dtype('float64')"
      ]
     },
     "execution_count": 3,
     "metadata": {},
     "output_type": "execute_result"
    }
   ],
   "source": [
    "ticker.dtypes"
   ]
  },
  {
   "cell_type": "code",
   "execution_count": 4,
   "metadata": {},
   "outputs": [
    {
     "data": {
      "text/plain": [
       "18.270000457763672"
      ]
     },
     "execution_count": 4,
     "metadata": {},
     "output_type": "execute_result"
    }
   ],
   "source": [
    "price_min = ticker.min()\n",
    "price_min"
   ]
  },
  {
   "cell_type": "code",
   "execution_count": 5,
   "metadata": {},
   "outputs": [
    {
     "data": {
      "text/plain": [
       "20.0"
      ]
     },
     "execution_count": 5,
     "metadata": {},
     "output_type": "execute_result"
    }
   ],
   "source": [
    "price_max = ticker.max()\n",
    "price_max"
   ]
  },
  {
   "cell_type": "markdown",
   "metadata": {},
   "source": [
    "Os níveis de retração para as razões de Fibonacci de 23,6%, 38,2% e 61,8% são calculados da seguinte forma:"
   ]
  },
  {
   "cell_type": "code",
   "execution_count": 6,
   "metadata": {},
   "outputs": [],
   "source": [
    "diff = price_max - price_min\n",
    "level1 = price_max - 0.236 * diff\n",
    "level2 = price_max - 0.382 * diff\n",
    "level3 = price_max - 0.618 * diff"
   ]
  },
  {
   "cell_type": "code",
   "execution_count": 7,
   "metadata": {},
   "outputs": [
    {
     "name": "stdout",
     "output_type": "stream",
     "text": [
      "Level Price\n",
      "0  20.0\n",
      "0.236 19.591720108032227\n",
      "0.382 19.339140174865722\n",
      "0.618 18.93086028289795\n",
      "1  18.270000457763672\n"
     ]
    }
   ],
   "source": [
    "print (\"Level\", \"Price\")\n",
    "print (\"0 \", price_max)\n",
    "print (\"0.236\", level1)\n",
    "print (\"0.382\", level2)\n",
    "print (\"0.618\", level3)\n",
    "print (\"1 \", price_min)"
   ]
  },
  {
   "cell_type": "code",
   "execution_count": 8,
   "metadata": {},
   "outputs": [
    {
     "name": "stderr",
     "output_type": "stream",
     "text": [
      "C:\\Users\\rlpro\\Anaconda3\\lib\\site-packages\\pandas\\plotting\\_converter.py:129: FutureWarning: Using an implicitly registered datetime converter for a matplotlib plotting method. The converter was registered by pandas on import. Future versions of pandas will require you to explicitly register matplotlib converters.\n",
      "\n",
      "To register the converters:\n",
      "\t>>> from pandas.plotting import register_matplotlib_converters\n",
      "\t>>> register_matplotlib_converters()\n",
      "  warnings.warn(msg, FutureWarning)\n"
     ]
    },
    {
     "data": {
      "image/png": "[encoded data removed]",
      "text/plain": [
       "<Figure size 1080x504 with 1 Axes>"
      ]
     },
     "metadata": {
      "needs_background": "light"
     },
     "output_type": "display_data"
    }
   ],
   "source": [
    "fig, ax = plt.subplots(figsize=(15,7))\n",
    "\n",
    "ax.plot(ticker)\n",
    "\n",
    "ax.axhspan(level1, price_min, alpha=0.4, color='lightsalmon')\n",
    "ax.axhspan(level2, level1, alpha=0.5, color='palegoldenrod')\n",
    "ax.axhspan(level3, level2, alpha=0.5, color='palegreen')\n",
    "ax.axhspan(price_max, level3, alpha=0.5, color='powderblue')\n",
    "\n",
    "plt.ylabel(\"Price\")\n",
    "plt.xlabel(\"Date\")\n",
    "\n",
    "plt.title('Fibonacci')\n",
    "\n",
    "plt.show()"
   ]
  },
  {
   "cell_type": "code",
   "execution_count": 9,
   "metadata": {},
   "outputs": [
    {
     "name": "stdout",
     "output_type": "stream",
     "text": [
      "Conclusão: \n",
      " O primeiro nível de retração em 23,6% é de $ 19.59 \n",
      " O próximo nível de retração em 61,8% é de $ 19.34 \n",
      " E o próximo nível de retração em 61,8% é de $ 18.93\n"
     ]
    }
   ],
   "source": [
    "print('Conclusão: \\n O primeiro nível de retração em 23,6% é de $',round(level1,2),'\\n O próximo nível de retração em 61,8% é de $',round(level2,2), '\\n E o próximo nível de retração em 61,8% é de $',round(level3,2))"
   ]
  },
  {
   "cell_type": "markdown",
   "metadata": {},
   "source": [
    "Fonte:https://www.encurtador.com.br/gr378"
   ]
  }
 ],
 "metadata": {
  "kernelspec": {
   "display_name": "Python 3.7.3 64-bit ('base': conda)",
   "language": "python",
   "name": "python37364bitbasecondac3187a33bb6b4b858aad71feb598639b"
  },
  "language_info": {
   "codemirror_mode": {
    "name": "ipython",
    "version": 3
   },
   "file_extension": ".py",
   "mimetype": "text/x-python",
   "name": "python",
   "nbconvert_exporter": "python",
   "pygments_lexer": "ipython3",
   "version": "3.7.3"
  }
 },
 "nbformat": 4,
 "nbformat_minor": 2
}
