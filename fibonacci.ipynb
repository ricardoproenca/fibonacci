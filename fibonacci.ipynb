{
 "cells": [
  {
   "cell_type": "markdown",
   "metadata": {},
   "source": [
    "# Fibonacci"
   ]
  },
  {
   "cell_type": "markdown",
   "metadata": {},
   "source": [
    "As ferramentas de negociação Fibonacci são usadas para determinar os níveis de suporte / resistência ou para identificar preços-alvo.\n",
    "\n",
    "A sequência de Fibonacci é uma série de números, começando com zero e um, em que cada número é a soma dos dois números anteriores."
   ]
  },
  {
   "cell_type": "markdown",
   "metadata": {},
   "source": [
    "# Estratégia de negociação de retração de Fibonacci"
   ]
  },
  {
   "cell_type": "markdown",
   "metadata": {},
   "source": [
    "Os índices de Fibonacci, 23,6%, 38,2% e 61,8%, podem ser aplicados para a análise de série temporal para encontrar o nível de suporte. Sempre que o preço se move substancialmente para cima ou para baixo, geralmente tende a retroceder antes de continuar a se mover na direção original. Por exemplo, se o preço da ação passou de 200 reais para 250 reais, é provável que volte a 230 reais antes de continuar a subir. O nível de retração de R$ 230 é estimado usando as taxas de Fibonacci.\n",
    "\n",
    "Podemos chegar a 230 reais usando uma matemática simples Total de movimento ascendente =  250 reais - 200 reais = 50 38,2% do movimento ascendente = 38,2% * 50 = $19,1 Previsão de retração = 250 reais - 19,1 reais = 230,9 reais\n",
    "\n",
    "Qualquer nível de preço abaixo de 230 reais oferece uma boa oportunidade para os traders entrarem em novas posições na direção da tendência. Da mesma forma, podemos calcular para 23,6%, 61,8% e as outras razões de Fibonacci."
   ]
  },
  {
   "cell_type": "markdown",
   "metadata": {},
   "source": [
    "# Calculando o Fibonacci\n",
    "Como sabemos agora, retrações são movimentos de preços que vão contra a tendência original. Para prever o nível de retração de Fibonacci, devemos primeiro identificar o movimento total para cima ou o movimento total para baixo. Para marcar o movimento, precisamos escolher a alta e a mínima mais recentes no gráfico."
   ]
  },
  {
   "cell_type": "code",
   "execution_count": 1,
   "metadata": {},
   "outputs": [],
   "source": [
    "import pandas as pd\n",
    "import numpy as np\n",
    "import seaborn as sns\n",
    "import matplotlib.pyplot as plt\n",
    "%matplotlib inline\n",
    "import pandas_datareader as data\n",
    "ticker = data.DataReader('COGN3.SA', data_source='yahoo', start='2020-08-01', end='2020-08-21') ['Adj Close']"
   ]
  },
  {
   "cell_type": "code",
   "execution_count": 2,
   "metadata": {},
   "outputs": [
    {
     "data": {
      "text/plain": [
       "Date\n",
       "2020-08-03    7.85\n",
       "2020-08-04    7.40\n",
       "2020-08-05    7.38\n",
       "2020-08-06    7.27\n",
       "2020-08-07    7.29\n",
       "2020-08-10    7.39\n",
       "2020-08-11    7.33\n",
       "2020-08-12    7.19\n",
       "2020-08-13    6.92\n",
       "2020-08-14    7.19\n",
       "2020-08-17    6.88\n",
       "2020-08-18    6.96\n",
       "2020-08-19    6.58\n",
       "2020-08-20    6.57\n",
       "2020-08-21    6.42\n",
       "Name: Adj Close, dtype: float64"
      ]
     },
     "execution_count": 2,
     "metadata": {},
     "output_type": "execute_result"
    }
   ],
   "source": [
    "ticker"
   ]
  },
  {
   "cell_type": "code",
   "execution_count": 3,
   "metadata": {},
   "outputs": [
    {
     "data": {
      "text/plain": [
       "dtype('float64')"
      ]
     },
     "execution_count": 3,
     "metadata": {},
     "output_type": "execute_result"
    }
   ],
   "source": [
    "ticker.dtypes"
   ]
  },
  {
   "cell_type": "code",
   "execution_count": 4,
   "metadata": {},
   "outputs": [
    {
     "data": {
      "text/plain": [
       "6.420000076293945"
      ]
     },
     "execution_count": 4,
     "metadata": {},
     "output_type": "execute_result"
    }
   ],
   "source": [
    "price_min = ticker.min()\n",
    "price_min"
   ]
  },
  {
   "cell_type": "code",
   "execution_count": 5,
   "metadata": {},
   "outputs": [
    {
     "data": {
      "text/plain": [
       "7.849999904632568"
      ]
     },
     "execution_count": 5,
     "metadata": {},
     "output_type": "execute_result"
    }
   ],
   "source": [
    "price_max = ticker.max()\n",
    "price_max"
   ]
  },
  {
   "cell_type": "markdown",
   "metadata": {},
   "source": [
    "Os níveis de retração para as razões de Fibonacci de 23,6%, 38,2% e 61,8% são calculados da seguinte forma:"
   ]
  },
  {
   "cell_type": "code",
   "execution_count": 6,
   "metadata": {},
   "outputs": [],
   "source": [
    "diff = price_max - price_min\n",
    "level1 = price_max - 0.236 * diff\n",
    "level2 = price_max - 0.382 * diff\n",
    "level3 = price_max - 0.618 * diff"
   ]
  },
  {
   "cell_type": "code",
   "execution_count": 7,
   "metadata": {},
   "outputs": [
    {
     "name": "stdout",
     "output_type": "stream",
     "text": [
      "Level Price\n",
      "0  7.849999904632568\n",
      "0.236 7.512519945144653\n",
      "0.382 7.303739970207214\n",
      "0.618 6.966260010719299\n",
      "1  6.420000076293945\n"
     ]
    }
   ],
   "source": [
    "print (\"Level\", \"Price\")\n",
    "print (\"0 \", price_max)\n",
    "print (\"0.236\", level1)\n",
    "print (\"0.382\", level2)\n",
    "print (\"0.618\", level3)\n",
    "print (\"1 \", price_min)"
   ]
  },
  {
   "cell_type": "code",
   "execution_count": 8,
   "metadata": {},
   "outputs": [
    {
     "name": "stderr",
     "output_type": "stream",
     "text": [
      "C:\\Users\\rlpro\\Anaconda3\\lib\\site-packages\\pandas\\plotting\\_converter.py:129: FutureWarning: Using an implicitly registered datetime converter for a matplotlib plotting method. The converter was registered by pandas on import. Future versions of pandas will require you to explicitly register matplotlib converters.\n",
      "\n",
      "To register the converters:\n",
      "\t>>> from pandas.plotting import register_matplotlib_converters\n",
      "\t>>> register_matplotlib_converters()\n",
      "  warnings.warn(msg, FutureWarning)\n"
     ]
    },
    {
     "data": {
      "image/png": "[encoded data removed]",
      "text/plain": [
       "<Figure size 1080x504 with 1 Axes>"
      ]
     },
     "metadata": {
      "needs_background": "light"
     },
     "output_type": "display_data"
    }
   ],
   "source": [
    "fig, ax = plt.subplots(figsize=(15,7))\n",
    "\n",
    "ax.plot(ticker)\n",
    "\n",
    "ax.axhspan(level1, price_min, alpha=0.4, color='lightsalmon')\n",
    "ax.axhspan(level2, level1, alpha=0.5, color='palegoldenrod')\n",
    "ax.axhspan(level3, level2, alpha=0.5, color='palegreen')\n",
    "ax.axhspan(price_max, level3, alpha=0.5, color='powderblue')\n",
    "\n",
    "plt.ylabel(\"Price\")\n",
    "plt.xlabel(\"Date\")\n",
    "\n",
    "plt.title('Fibonacci')\n",
    "\n",
    "plt.show()"
   ]
  },
  {
   "cell_type": "code",
   "execution_count": 9,
   "metadata": {},
   "outputs": [
    {
     "name": "stdout",
     "output_type": "stream",
     "text": [
      "Conclusão: \n",
      " O primeiro nível de retração em 23,6% é de $ 7.51 \n",
      " O próximo nível de retração em 61,8% é de $ 7.3 \n",
      " E o próximo nível de retração em 61,8% é de $ 6.97\n"
     ]
    }
   ],
   "source": [
    "print('Conclusão: \\n O primeiro nível de retração em 23,6% é de $',round(level1,2),'\\n O próximo nível de retração em 61,8% é de $',round(level2,2), '\\n E o próximo nível de retração em 61,8% é de $',round(level3,2))"
   ]
  },
  {
   "cell_type": "markdown",
   "metadata": {},
   "source": [
    "Fonte: https://blog.quantinsti.com/fibonacci-retracement-trading-strategy-python/#:~:text=Fibonacci%20trading%20tools%20are%20used,to%20use%20Fibonacci%20for%20trading."
   ]
  }
 ],
 "metadata": {
  "kernelspec": {
   "display_name": "Python 3.7.3 64-bit ('base': conda)",
   "language": "python",
   "name": "python37364bitbasecondac3187a33bb6b4b858aad71feb598639b"
  },
  "language_info": {
   "codemirror_mode": {
    "name": "ipython",
    "version": 3
   },
   "file_extension": ".py",
   "mimetype": "text/x-python",
   "name": "python",
   "nbconvert_exporter": "python",
   "pygments_lexer": "ipython3",
   "version": "3.7.3"
  }
 },
 "nbformat": 4,
 "nbformat_minor": 2
}
